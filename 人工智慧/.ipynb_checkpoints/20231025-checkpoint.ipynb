{
 "cells": [
  {
   "cell_type": "code",
   "execution_count": 1,
   "id": "fc0e9ae1",
   "metadata": {},
   "outputs": [
    {
     "name": "stdout",
     "output_type": "stream",
     "text": [
      "1.0\n",
      "0.95\n"
     ]
    }
   ],
   "source": [
    "import math\n",
    "from sklearn import datasets\n",
    "import numpy as np\n",
    "\n",
    "def entropy(p1,n1):\n",
    "    if(p1==0 and n1==0):\n",
    "        return 1\n",
    "    elif(p1==0 or n1==0):\n",
    "        return 0\n",
    "    else:\n",
    "        pp = p1/(p1+n1)\n",
    "        np = n1/(p1+n1)\n",
    "        return -pp*math.log2(pp) - np*math.log2(np)\n",
    "\n",
    "def IG(p1,n1,p2,n2):\n",
    "    pr = p1 + p2\n",
    "    nr = n1 + n2\n",
    "    num = pr+nr\n",
    "    num1 = p1+n1\n",
    "    num2 = p2+n2\n",
    "    return entropy(pr,nr)-num1/num*entropy(p1,n1)-num2/num*entropy(p2,n2)\n",
    "    \n",
    "\n",
    "data = datasets.load_iris()\n",
    "\n",
    "def ID3DTtrain(feature,target):\n",
    "    node = dict()\n",
    "    node['data'] = range(len(target))\n",
    "    tree = []\n",
    "    tree.append(node)\n",
    "    t = 0\n",
    "    while(t<len(tree)):\n",
    "        idx = tree[t]['data']\n",
    "        if(sum(target[idx])==0):\n",
    "            tree[t]['leaf']=1\n",
    "            tree[t]['decision']=0\n",
    "        elif(sum(target[idx])==len(idx)):\n",
    "            tree[t]['leaf']=1\n",
    "            tree[t]['decision']=1\n",
    "        else:\n",
    "            bestIG = 0\n",
    "            for i in range(feature.shape[1]):\n",
    "                pool = list(set(feature[idx,i]))\n",
    "                pool.sort()\n",
    "                for j in range(len(pool)-1):\n",
    "                    thres = (pool[j]+pool[j+1])/2\n",
    "                    G1 = []\n",
    "                    G2 = []\n",
    "                    for k in idx:\n",
    "                        if(feature[k][i]<thres):\n",
    "                            G1.append(k)\n",
    "                        else:\n",
    "                            G2.append(k)\n",
    "                    p1 = sum(target[G1]==1)\n",
    "                    n1 = sum(target[G1]==0)\n",
    "                    p2 = sum(target[G2]==1)\n",
    "                    n2 = sum(target[G2]==0)\n",
    "                    thisIG = IG(p1,n1,p2,n2)\n",
    "                    if(thisIG>bestIG):\n",
    "                        bestIG = thisIG\n",
    "                        bestG1 = G1\n",
    "                        bestG2 = G2\n",
    "                        bestthres = thres\n",
    "                        bestf = i\n",
    "            if(bestIG>0):\n",
    "                tree[t]['leaf'] = 0\n",
    "                tree[t]['selectf'] = bestf\n",
    "                tree[t]['threshold'] = bestthres\n",
    "                tree[t]['child']=[len(tree),len(tree)+1]\n",
    "                node = dict()\n",
    "                node['data'] = bestG1\n",
    "                tree.append(node)\n",
    "                node = dict()\n",
    "                node['data'] = bestG2\n",
    "                tree.append(node)\n",
    "            else:\n",
    "                tree[t]['leaf']=1\n",
    "                if(sum(target[idx]==1)>sum(target[idx]==0)):\n",
    "                    tree[t]['decision'] = 1\n",
    "                else:\n",
    "                    tree[t]['decision'] = 0\n",
    "        t+=1\n",
    "    return tree\n",
    "\n",
    "def ID3DTtest(Tree,feature):\n",
    "    N = feature.shape[0]\n",
    "    target = np.zeros((N,))\n",
    "    for i in range(N):\n",
    "        feature1 = feature[i,:]\n",
    "        t = 0\n",
    "        while(T[t]['leaf']==0):\n",
    "            node = T[t]\n",
    "            if(feature1[node['selectf']]<node['threshold']):\n",
    "                t = node['child'][0]\n",
    "            else:\n",
    "                t = node['child'][1]\n",
    "        target[i] = T[t]['decision']\n",
    "    return target\n",
    "                            \n",
    "feature1 = data.data[50:80][:]\n",
    "feature2 = data.data[100:130][:]\n",
    "feature = np.concatenate((feature1,feature2),axis=0)\n",
    "target = np.concatenate((data.target[50:80]-1,data.target[100:130]-1))\n",
    "\n",
    "testing_feature1 = data.data[80:100][:]\n",
    "testing_feature2 = data.data[130:150][:]\n",
    "testing_feature = np.concatenate((testing_feature1,testing_feature2),axis=0)\n",
    "testing_target = np.concatenate((data.target[80:100]-1,data.target[130:150]-1))\n",
    "\n",
    "T = ID3DTtrain(feature,target)\n",
    "predtarget = ID3DTtest(T,feature)\n",
    "training_accuracy = np.sum(predtarget==target)/len(target)\n",
    "print(training_accuracy)\n",
    "\n",
    "\n",
    "predtarget = ID3DTtest(T,testing_feature)\n",
    "training_accuracy = np.sum(predtarget==testing_target)/len(testing_target)\n",
    "print(training_accuracy)"
   ]
  },
  {
   "cell_type": "code",
   "execution_count": 2,
   "id": "7d4a8106",
   "metadata": {},
   "outputs": [
    {
     "data": {
      "text/plain": [
       "array([0., 0., 0., 1., 0., 1., 0., 0., 0., 0., 0., 0., 0., 0., 0., 0., 0.,\n",
       "       0., 0., 0., 1., 1., 1., 1., 1., 1., 1., 1., 1., 1., 1., 1., 1., 1.,\n",
       "       1., 1., 1., 1., 1., 1.])"
      ]
     },
     "execution_count": 2,
     "metadata": {},
     "output_type": "execute_result"
    }
   ],
   "source": [
    "predtarget"
   ]
  },
  {
   "cell_type": "code",
   "execution_count": 3,
   "id": "7a3e1e23",
   "metadata": {},
   "outputs": [
    {
     "data": {
      "text/plain": [
       "array([0, 0, 0, 0, 0, 0, 0, 0, 0, 0, 0, 0, 0, 0, 0, 0, 0, 0, 0, 0, 0, 0,\n",
       "       0, 0, 0, 0, 0, 0, 0, 0, 1, 1, 1, 1, 1, 1, 1, 1, 1, 1, 1, 1, 1, 1,\n",
       "       1, 1, 1, 1, 1, 1, 1, 1, 1, 1, 1, 1, 1, 1, 1, 1])"
      ]
     },
     "execution_count": 3,
     "metadata": {},
     "output_type": "execute_result"
    }
   ],
   "source": [
    "target = np.concatenate((data.target[0:30],data.target[50:80]))\n",
    "target"
   ]
  },
  {
   "cell_type": "code",
   "execution_count": null,
   "id": "0a14ca10",
   "metadata": {},
   "outputs": [],
   "source": [
    "# 0  1 \n",
    "feature1 = data.data[0:30][:]\n",
    "feature2 = data.data[50:80][:]\n",
    "feature = np.concatenate((feature1,feature2),axis=0)\n",
    "target = np.concatenate((data.target[0:30],data.target[50:80]))\n",
    "\n",
    "testing_feature1 = data.data[30:50][:]\n",
    "testing_feature2 = data.data[130:150][:]\n",
    "testing_feature = np.concatenate((testing_feature1,testing_feature2),axis=0)\n",
    "testing_target = np.concatenate((data.target[80:100]-1,data.target[130:150]-1))\n",
    "\n",
    "T = ID3DTtrain(feature,target)\n",
    "predtarget = ID3DTtest(T,feature)\n",
    "training_accuracy = np.sum(predtarget==target)/len(target)\n",
    "print(training_accuracy)\n",
    "\n",
    "\n",
    "predtarget = ID3DTtest(T,testing_feature)\n",
    "training_accuracy = np.sum(predtarget==testing_target)/len(testing_target)\n",
    "print(training_accuracy)"
   ]
  },
  {
   "cell_type": "code",
   "execution_count": null,
   "id": "ce30d159",
   "metadata": {},
   "outputs": [],
   "source": [
    "#0 2"
   ]
  },
  {
   "cell_type": "code",
   "execution_count": null,
   "id": "4ecc3035",
   "metadata": {},
   "outputs": [],
   "source": [
    "#1 2"
   ]
  }
 ],
 "metadata": {
  "kernelspec": {
   "display_name": "finlab",
   "language": "python",
   "name": "finlab"
  },
  "language_info": {
   "codemirror_mode": {
    "name": "ipython",
    "version": 3
   },
   "file_extension": ".py",
   "mimetype": "text/x-python",
   "name": "python",
   "nbconvert_exporter": "python",
   "pygments_lexer": "ipython3",
   "version": "3.7.2"
  }
 },
 "nbformat": 4,
 "nbformat_minor": 5
}
