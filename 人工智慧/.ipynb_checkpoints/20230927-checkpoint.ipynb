{
 "cells": [
  {
   "cell_type": "code",
   "execution_count": 90,
   "id": "b89a3341",
   "metadata": {},
   "outputs": [],
   "source": [
    "import pandas as pd\n",
    "import numpy as np\n",
    "from sympy import *\n",
    "本金攤還 = pd.DataFrame(columns=['pmt','利息','償還本金', '尚欠本金'])\n",
    "x = Symbol('x')\n",
    "pmt = solve((x/(0.0194/12))*(1-1/(1+0.0194/12)**216)-20000000,x)[0]\n",
    "\n",
    "本金攤還=本金攤還.append({'pmt':0,'利息' : 0 , '償還本金' : 0,'尚欠本金':20000000},ignore_index=True)\n",
    "\n",
    "for i in range(0,24):\n",
    "    本金攤還=本金攤還.append({'pmt':20000000*(0.0194/12),'利息' : 20000000*(0.0194/12) , '償還本金' : 0,'尚欠本金':20000000},ignore_index=True)\n",
    "\n",
    "for i in range(25,241):\n",
    "    本金攤還=本金攤還.append({'pmt':pmt,'利息' :本金攤還.iloc[i-1,3]*(0.0194/12)  , '償還本金' :pmt-本金攤還.iloc[i-1,3]*(0.0194/12),'尚欠本金':本金攤還.iloc[i-1,3]-pmt+本金攤還.iloc[i-1,3]*(0.0194/12)},ignore_index=True)\n",
    "\n",
    "本金攤還 = 本金攤還.astype('float32')\n",
    "\n",
    "本金攤還\n",
    "\n",
    "np.around(本金攤還,)\n",
    "\n",
    "print(\"利息總合:\",sum(本金攤還['利息']))"
   ]
  },
  {
   "cell_type": "code",
   "execution_count": null,
   "id": "60428025",
   "metadata": {},
   "outputs": [],
   "source": []
  }
 ],
 "metadata": {
  "kernelspec": {
   "display_name": "finlab",
   "language": "python",
   "name": "finlab"
  },
  "language_info": {
   "codemirror_mode": {
    "name": "ipython",
    "version": 3
   },
   "file_extension": ".py",
   "mimetype": "text/x-python",
   "name": "python",
   "nbconvert_exporter": "python",
   "pygments_lexer": "ipython3",
   "version": "3.7.2"
  }
 },
 "nbformat": 4,
 "nbformat_minor": 5
}
